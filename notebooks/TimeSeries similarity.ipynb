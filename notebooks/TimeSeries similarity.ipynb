{
 "cells": [
  {
   "cell_type": "code",
   "execution_count": 1,
   "metadata": {},
   "outputs": [],
   "source": [
    "%matplotlib inline\n",
    "%load_ext autoreload\n",
    "%autoreload 2\n"
   ]
  },
  {
   "cell_type": "code",
   "execution_count": 2,
   "metadata": {},
   "outputs": [],
   "source": [
    "import os\n",
    "import sys\n",
    "import pandas as pd\n",
    "import matplotlib.pyplot as plt\n",
    "from datetime import date, timedelta as td\n",
    "\n",
    "sys.path.append(\"..\")\n",
    "from lsh.similarity import TimeSeriesLSH\n"
   ]
  },
  {
   "cell_type": "code",
   "execution_count": 3,
   "metadata": {},
   "outputs": [],
   "source": [
    "def read_metric(series_path):\n",
    "    return pd.read_csv(f\"../data/NAB/{series_path}\").rename(columns={\"value\": \"y\"})\n"
   ]
  },
  {
   "cell_type": "code",
   "execution_count": 4,
   "metadata": {},
   "outputs": [],
   "source": [
    "metric = read_metric('realAWSCloudwatch/ec2_cpu_utilization_5f5533.csv')"
   ]
  },
  {
   "cell_type": "code",
   "execution_count": 5,
   "metadata": {},
   "outputs": [],
   "source": [
    "metric['timestamp'] = pd.to_datetime(metric['timestamp'], infer_datetime_format=True)\n",
    "metric = metric.sort_values(by='timestamp')"
   ]
  },
  {
   "cell_type": "code",
   "execution_count": 6,
   "metadata": {},
   "outputs": [
    {
     "data": {
      "text/html": [
       "<div>\n",
       "<style scoped>\n",
       "    .dataframe tbody tr th:only-of-type {\n",
       "        vertical-align: middle;\n",
       "    }\n",
       "\n",
       "    .dataframe tbody tr th {\n",
       "        vertical-align: top;\n",
       "    }\n",
       "\n",
       "    .dataframe thead th {\n",
       "        text-align: right;\n",
       "    }\n",
       "</style>\n",
       "<table border=\"1\" class=\"dataframe\">\n",
       "  <thead>\n",
       "    <tr style=\"text-align: right;\">\n",
       "      <th></th>\n",
       "      <th>timestamp</th>\n",
       "      <th>y</th>\n",
       "    </tr>\n",
       "  </thead>\n",
       "  <tbody>\n",
       "    <tr>\n",
       "      <th>0</th>\n",
       "      <td>2014-02-14 14:27:00</td>\n",
       "      <td>51.846</td>\n",
       "    </tr>\n",
       "    <tr>\n",
       "      <th>1</th>\n",
       "      <td>2014-02-14 14:32:00</td>\n",
       "      <td>44.508</td>\n",
       "    </tr>\n",
       "    <tr>\n",
       "      <th>2</th>\n",
       "      <td>2014-02-14 14:37:00</td>\n",
       "      <td>41.244</td>\n",
       "    </tr>\n",
       "    <tr>\n",
       "      <th>3</th>\n",
       "      <td>2014-02-14 14:42:00</td>\n",
       "      <td>48.568</td>\n",
       "    </tr>\n",
       "    <tr>\n",
       "      <th>4</th>\n",
       "      <td>2014-02-14 14:47:00</td>\n",
       "      <td>46.714</td>\n",
       "    </tr>\n",
       "  </tbody>\n",
       "</table>\n",
       "</div>"
      ],
      "text/plain": [
       "            timestamp       y\n",
       "0 2014-02-14 14:27:00  51.846\n",
       "1 2014-02-14 14:32:00  44.508\n",
       "2 2014-02-14 14:37:00  41.244\n",
       "3 2014-02-14 14:42:00  48.568\n",
       "4 2014-02-14 14:47:00  46.714"
      ]
     },
     "execution_count": 6,
     "metadata": {},
     "output_type": "execute_result"
    }
   ],
   "source": [
    "metric.head()"
   ]
  },
  {
   "cell_type": "code",
   "execution_count": 7,
   "metadata": {},
   "outputs": [
    {
     "name": "stderr",
     "output_type": "stream",
     "text": [
      "/anaconda3/envs/time-series/lib/python3.6/site-packages/pandas/plotting/_converter.py:129: FutureWarning: Using an implicitly registered datetime converter for a matplotlib plotting method. The converter was registered by pandas on import. Future versions of pandas will require you to explicitly register matplotlib converters.\n",
      "\n",
      "To register the converters:\n",
      "\t>>> from pandas.plotting import register_matplotlib_converters\n",
      "\t>>> register_matplotlib_converters()\n",
      "  warnings.warn(msg, FutureWarning)\n"
     ]
    },
    {
     "data": {
      "text/plain": [
       "(array([735279., 735281., 735283., 735285., 735287., 735289., 735291.,\n",
       "        735293.]), <a list of 8 Text xticklabel objects>)"
      ]
     },
     "execution_count": 7,
     "metadata": {},
     "output_type": "execute_result"
    },
    {
     "data": {
      "image/png": "[encoded data removed]",
      "text/plain": [
       "<Figure size 432x288 with 1 Axes>"
      ]
     },
     "metadata": {
      "needs_background": "light"
     },
     "output_type": "display_data"
    }
   ],
   "source": [
    "plt.plot(metric['timestamp'], metric['y'])\n",
    "plt.xticks(rotation='vertical')"
   ]
  },
  {
   "cell_type": "code",
   "execution_count": 8,
   "metadata": {},
   "outputs": [
    {
     "data": {
      "text/html": [
       "<div>\n",
       "<style scoped>\n",
       "    .dataframe tbody tr th:only-of-type {\n",
       "        vertical-align: middle;\n",
       "    }\n",
       "\n",
       "    .dataframe tbody tr th {\n",
       "        vertical-align: top;\n",
       "    }\n",
       "\n",
       "    .dataframe thead th {\n",
       "        text-align: right;\n",
       "    }\n",
       "</style>\n",
       "<table border=\"1\" class=\"dataframe\">\n",
       "  <thead>\n",
       "    <tr style=\"text-align: right;\">\n",
       "      <th></th>\n",
       "      <th></th>\n",
       "      <th></th>\n",
       "      <th></th>\n",
       "      <th>timestamp</th>\n",
       "      <th>y</th>\n",
       "    </tr>\n",
       "    <tr>\n",
       "      <th>year</th>\n",
       "      <th>month</th>\n",
       "      <th>day</th>\n",
       "      <th>hour</th>\n",
       "      <th></th>\n",
       "      <th></th>\n",
       "    </tr>\n",
       "  </thead>\n",
       "  <tbody>\n",
       "    <tr>\n",
       "      <th rowspan=\"61\" valign=\"top\">2014</th>\n",
       "      <th rowspan=\"61\" valign=\"top\">2</th>\n",
       "      <th rowspan=\"10\" valign=\"top\">14</th>\n",
       "      <th>14</th>\n",
       "      <td>7</td>\n",
       "      <td>7</td>\n",
       "    </tr>\n",
       "    <tr>\n",
       "      <th>15</th>\n",
       "      <td>12</td>\n",
       "      <td>12</td>\n",
       "    </tr>\n",
       "    <tr>\n",
       "      <th>16</th>\n",
       "      <td>12</td>\n",
       "      <td>12</td>\n",
       "    </tr>\n",
       "    <tr>\n",
       "      <th>17</th>\n",
       "      <td>12</td>\n",
       "      <td>12</td>\n",
       "    </tr>\n",
       "    <tr>\n",
       "      <th>18</th>\n",
       "      <td>12</td>\n",
       "      <td>12</td>\n",
       "    </tr>\n",
       "    <tr>\n",
       "      <th>19</th>\n",
       "      <td>12</td>\n",
       "      <td>12</td>\n",
       "    </tr>\n",
       "    <tr>\n",
       "      <th>20</th>\n",
       "      <td>12</td>\n",
       "      <td>12</td>\n",
       "    </tr>\n",
       "    <tr>\n",
       "      <th>21</th>\n",
       "      <td>12</td>\n",
       "      <td>12</td>\n",
       "    </tr>\n",
       "    <tr>\n",
       "      <th>22</th>\n",
       "      <td>12</td>\n",
       "      <td>12</td>\n",
       "    </tr>\n",
       "    <tr>\n",
       "      <th>23</th>\n",
       "      <td>12</td>\n",
       "      <td>12</td>\n",
       "    </tr>\n",
       "    <tr>\n",
       "      <th rowspan=\"20\" valign=\"top\">15</th>\n",
       "      <th>0</th>\n",
       "      <td>12</td>\n",
       "      <td>12</td>\n",
       "    </tr>\n",
       "    <tr>\n",
       "      <th>1</th>\n",
       "      <td>12</td>\n",
       "      <td>12</td>\n",
       "    </tr>\n",
       "    <tr>\n",
       "      <th>2</th>\n",
       "      <td>12</td>\n",
       "      <td>12</td>\n",
       "    </tr>\n",
       "    <tr>\n",
       "      <th>3</th>\n",
       "      <td>12</td>\n",
       "      <td>12</td>\n",
       "    </tr>\n",
       "    <tr>\n",
       "      <th>4</th>\n",
       "      <td>12</td>\n",
       "      <td>12</td>\n",
       "    </tr>\n",
       "    <tr>\n",
       "      <th>5</th>\n",
       "      <td>12</td>\n",
       "      <td>12</td>\n",
       "    </tr>\n",
       "    <tr>\n",
       "      <th>6</th>\n",
       "      <td>12</td>\n",
       "      <td>12</td>\n",
       "    </tr>\n",
       "    <tr>\n",
       "      <th>7</th>\n",
       "      <td>12</td>\n",
       "      <td>12</td>\n",
       "    </tr>\n",
       "    <tr>\n",
       "      <th>8</th>\n",
       "      <td>12</td>\n",
       "      <td>12</td>\n",
       "    </tr>\n",
       "    <tr>\n",
       "      <th>9</th>\n",
       "      <td>12</td>\n",
       "      <td>12</td>\n",
       "    </tr>\n",
       "    <tr>\n",
       "      <th>10</th>\n",
       "      <td>12</td>\n",
       "      <td>12</td>\n",
       "    </tr>\n",
       "    <tr>\n",
       "      <th>11</th>\n",
       "      <td>12</td>\n",
       "      <td>12</td>\n",
       "    </tr>\n",
       "    <tr>\n",
       "      <th>12</th>\n",
       "      <td>12</td>\n",
       "      <td>12</td>\n",
       "    </tr>\n",
       "    <tr>\n",
       "      <th>13</th>\n",
       "      <td>12</td>\n",
       "      <td>12</td>\n",
       "    </tr>\n",
       "    <tr>\n",
       "      <th>14</th>\n",
       "      <td>12</td>\n",
       "      <td>12</td>\n",
       "    </tr>\n",
       "    <tr>\n",
       "      <th>15</th>\n",
       "      <td>12</td>\n",
       "      <td>12</td>\n",
       "    </tr>\n",
       "    <tr>\n",
       "      <th>16</th>\n",
       "      <td>12</td>\n",
       "      <td>12</td>\n",
       "    </tr>\n",
       "    <tr>\n",
       "      <th>17</th>\n",
       "      <td>12</td>\n",
       "      <td>12</td>\n",
       "    </tr>\n",
       "    <tr>\n",
       "      <th>18</th>\n",
       "      <td>12</td>\n",
       "      <td>12</td>\n",
       "    </tr>\n",
       "    <tr>\n",
       "      <th>19</th>\n",
       "      <td>12</td>\n",
       "      <td>12</td>\n",
       "    </tr>\n",
       "    <tr>\n",
       "      <th>...</th>\n",
       "      <th>...</th>\n",
       "      <td>...</td>\n",
       "      <td>...</td>\n",
       "    </tr>\n",
       "    <tr>\n",
       "      <th rowspan=\"15\" valign=\"top\">27</th>\n",
       "      <th>9</th>\n",
       "      <td>12</td>\n",
       "      <td>12</td>\n",
       "    </tr>\n",
       "    <tr>\n",
       "      <th>10</th>\n",
       "      <td>12</td>\n",
       "      <td>12</td>\n",
       "    </tr>\n",
       "    <tr>\n",
       "      <th>11</th>\n",
       "      <td>12</td>\n",
       "      <td>12</td>\n",
       "    </tr>\n",
       "    <tr>\n",
       "      <th>12</th>\n",
       "      <td>12</td>\n",
       "      <td>12</td>\n",
       "    </tr>\n",
       "    <tr>\n",
       "      <th>13</th>\n",
       "      <td>12</td>\n",
       "      <td>12</td>\n",
       "    </tr>\n",
       "    <tr>\n",
       "      <th>14</th>\n",
       "      <td>12</td>\n",
       "      <td>12</td>\n",
       "    </tr>\n",
       "    <tr>\n",
       "      <th>15</th>\n",
       "      <td>12</td>\n",
       "      <td>12</td>\n",
       "    </tr>\n",
       "    <tr>\n",
       "      <th>16</th>\n",
       "      <td>12</td>\n",
       "      <td>12</td>\n",
       "    </tr>\n",
       "    <tr>\n",
       "      <th>17</th>\n",
       "      <td>12</td>\n",
       "      <td>12</td>\n",
       "    </tr>\n",
       "    <tr>\n",
       "      <th>18</th>\n",
       "      <td>12</td>\n",
       "      <td>12</td>\n",
       "    </tr>\n",
       "    <tr>\n",
       "      <th>19</th>\n",
       "      <td>12</td>\n",
       "      <td>12</td>\n",
       "    </tr>\n",
       "    <tr>\n",
       "      <th>20</th>\n",
       "      <td>12</td>\n",
       "      <td>12</td>\n",
       "    </tr>\n",
       "    <tr>\n",
       "      <th>21</th>\n",
       "      <td>12</td>\n",
       "      <td>12</td>\n",
       "    </tr>\n",
       "    <tr>\n",
       "      <th>22</th>\n",
       "      <td>12</td>\n",
       "      <td>12</td>\n",
       "    </tr>\n",
       "    <tr>\n",
       "      <th>23</th>\n",
       "      <td>12</td>\n",
       "      <td>12</td>\n",
       "    </tr>\n",
       "    <tr>\n",
       "      <th rowspan=\"15\" valign=\"top\">28</th>\n",
       "      <th>0</th>\n",
       "      <td>12</td>\n",
       "      <td>12</td>\n",
       "    </tr>\n",
       "    <tr>\n",
       "      <th>1</th>\n",
       "      <td>12</td>\n",
       "      <td>12</td>\n",
       "    </tr>\n",
       "    <tr>\n",
       "      <th>2</th>\n",
       "      <td>12</td>\n",
       "      <td>12</td>\n",
       "    </tr>\n",
       "    <tr>\n",
       "      <th>3</th>\n",
       "      <td>12</td>\n",
       "      <td>12</td>\n",
       "    </tr>\n",
       "    <tr>\n",
       "      <th>4</th>\n",
       "      <td>12</td>\n",
       "      <td>12</td>\n",
       "    </tr>\n",
       "    <tr>\n",
       "      <th>5</th>\n",
       "      <td>12</td>\n",
       "      <td>12</td>\n",
       "    </tr>\n",
       "    <tr>\n",
       "      <th>6</th>\n",
       "      <td>12</td>\n",
       "      <td>12</td>\n",
       "    </tr>\n",
       "    <tr>\n",
       "      <th>7</th>\n",
       "      <td>12</td>\n",
       "      <td>12</td>\n",
       "    </tr>\n",
       "    <tr>\n",
       "      <th>8</th>\n",
       "      <td>12</td>\n",
       "      <td>12</td>\n",
       "    </tr>\n",
       "    <tr>\n",
       "      <th>9</th>\n",
       "      <td>12</td>\n",
       "      <td>12</td>\n",
       "    </tr>\n",
       "    <tr>\n",
       "      <th>10</th>\n",
       "      <td>12</td>\n",
       "      <td>12</td>\n",
       "    </tr>\n",
       "    <tr>\n",
       "      <th>11</th>\n",
       "      <td>12</td>\n",
       "      <td>12</td>\n",
       "    </tr>\n",
       "    <tr>\n",
       "      <th>12</th>\n",
       "      <td>12</td>\n",
       "      <td>12</td>\n",
       "    </tr>\n",
       "    <tr>\n",
       "      <th>13</th>\n",
       "      <td>12</td>\n",
       "      <td>12</td>\n",
       "    </tr>\n",
       "    <tr>\n",
       "      <th>14</th>\n",
       "      <td>5</td>\n",
       "      <td>5</td>\n",
       "    </tr>\n",
       "  </tbody>\n",
       "</table>\n",
       "<p>337 rows × 2 columns</p>\n",
       "</div>"
      ],
      "text/plain": [
       "                     timestamp   y\n",
       "year month day hour               \n",
       "2014 2     14  14            7   7\n",
       "               15           12  12\n",
       "               16           12  12\n",
       "               17           12  12\n",
       "               18           12  12\n",
       "               19           12  12\n",
       "               20           12  12\n",
       "               21           12  12\n",
       "               22           12  12\n",
       "               23           12  12\n",
       "           15  0            12  12\n",
       "               1            12  12\n",
       "               2            12  12\n",
       "               3            12  12\n",
       "               4            12  12\n",
       "               5            12  12\n",
       "               6            12  12\n",
       "               7            12  12\n",
       "               8            12  12\n",
       "               9            12  12\n",
       "               10           12  12\n",
       "               11           12  12\n",
       "               12           12  12\n",
       "               13           12  12\n",
       "               14           12  12\n",
       "               15           12  12\n",
       "               16           12  12\n",
       "               17           12  12\n",
       "               18           12  12\n",
       "               19           12  12\n",
       "...                        ...  ..\n",
       "           27  9            12  12\n",
       "               10           12  12\n",
       "               11           12  12\n",
       "               12           12  12\n",
       "               13           12  12\n",
       "               14           12  12\n",
       "               15           12  12\n",
       "               16           12  12\n",
       "               17           12  12\n",
       "               18           12  12\n",
       "               19           12  12\n",
       "               20           12  12\n",
       "               21           12  12\n",
       "               22           12  12\n",
       "               23           12  12\n",
       "           28  0            12  12\n",
       "               1            12  12\n",
       "               2            12  12\n",
       "               3            12  12\n",
       "               4            12  12\n",
       "               5            12  12\n",
       "               6            12  12\n",
       "               7            12  12\n",
       "               8            12  12\n",
       "               9            12  12\n",
       "               10           12  12\n",
       "               11           12  12\n",
       "               12           12  12\n",
       "               13           12  12\n",
       "               14            5   5\n",
       "\n",
       "[337 rows x 2 columns]"
      ]
     },
     "execution_count": 8,
     "metadata": {},
     "output_type": "execute_result"
    }
   ],
   "source": [
    "grouped_by_hour = metric.groupby(\n",
    "     [metric['timestamp'].map(lambda x : x.year).rename('year'),\n",
    "      metric['timestamp'].map(lambda x : x.month).rename('month'),\n",
    "      metric['timestamp'].map(lambda x : x.day).rename('day'),\n",
    "      metric['timestamp'].map(lambda x : x.hour).rename('hour')]).count()\n",
    "grouped_by_hour"
   ]
  },
  {
   "cell_type": "code",
   "execution_count": 9,
   "metadata": {},
   "outputs": [],
   "source": [
    "def split_series(series, response_variable = 'y'):\n",
    "    number_of_hours = 6\n",
    "    series = series.sort_values(by='timestamp')\n",
    "    start_date = pd.Timestamp(series['timestamp'][0]) - pd.Timedelta(hours = int(number_of_hours / 2))\n",
    "    end_date = pd.Timestamp(series['timestamp'][0]) + pd.Timedelta(hours = int(number_of_hours / 2))\n",
    "    series_begin = pd.Timestamp(series['timestamp'][0])\n",
    "    series_end = pd.Timestamp(series['timestamp'][len(series['timestamp']) - 1])\n",
    "\n",
    "    hour_in_nanos = 1000 * 1000 * 1000 * 60 * 60\n",
    "    total_hours = int((series_end - series_begin).delta / hour_in_nanos)\n",
    "    number_of_windows = int(total_hours / number_of_hours + 1)\n",
    "    result = []\n",
    "    \n",
    "    for hour in range(0, number_of_windows):\n",
    "        start_date = start_date + pd.Timedelta(hours = int(number_of_hours / 2))\n",
    "        end_date = end_date + pd.Timedelta(hours = int(number_of_hours / 2))\n",
    "        mask = (series['timestamp'] > start_date) & (series['timestamp'] <= end_date)\n",
    "        subseries = series.loc[mask]\n",
    "        result.append(subseries)\n",
    "    return result\n",
    "\n",
    "def show_metric(windows, num):\n",
    "    metric_window = windows[num]\n",
    "    plot_metric(windows[num])\n",
    "\n",
    "def plot_metric(metric):\n",
    "    plt.plot(metric['timestamp'], metric['y'])\n",
    "    plt.xticks(rotation='vertical')\n",
    "\n",
    "def find_window_max(windows, response_variable = 'y'):\n",
    "    max_response = 0\n",
    "    max_window = None\n",
    "    max_idx = 0\n",
    "    for idx, window in enumerate(windows):\n",
    "        current_max = window[response_variable].max()\n",
    "        if current_max > max_response:\n",
    "            max_response = current_max\n",
    "            max_window = window\n",
    "            max_idx = idx\n",
    "    return max_idx, max_window        \n",
    "\n",
    "metric_windows = split_series(metric)"
   ]
  },
  {
   "cell_type": "code",
   "execution_count": 10,
   "metadata": {},
   "outputs": [
    {
     "data": {
      "text/plain": [
       "56"
      ]
     },
     "execution_count": 10,
     "metadata": {},
     "output_type": "execute_result"
    }
   ],
   "source": [
    "len(metric_windows)"
   ]
  },
  {
   "cell_type": "code",
   "execution_count": 11,
   "metadata": {},
   "outputs": [
    {
     "data": {
      "image/png": "[encoded data removed]",
      "text/plain": [
       "<Figure size 432x288 with 1 Axes>"
      ]
     },
     "metadata": {
      "needs_background": "light"
     },
     "output_type": "display_data"
    }
   ],
   "source": [
    "idx, window = find_window_max(metric_windows)\n",
    "# print(idx, window)\n",
    "show_metric(metric_windows, idx)"
   ]
  },
  {
   "cell_type": "code",
   "execution_count": 12,
   "metadata": {},
   "outputs": [],
   "source": [
    "hash_index = TimeSeriesLSH(W = 10, shingle_size = 15)"
   ]
  },
  {
   "cell_type": "code",
   "execution_count": 13,
   "metadata": {},
   "outputs": [],
   "source": [
    "hash_index.fit(metric_windows)"
   ]
  },
  {
   "cell_type": "code",
   "execution_count": 14,
   "metadata": {},
   "outputs": [],
   "source": [
    "suspicious = metric_windows[idx]\n",
    "result = hash_index.query(suspicious)\n",
    "result.sort(key = lambda v: v[\"similarity\"], reverse = True)"
   ]
  },
  {
   "cell_type": "code",
   "execution_count": 15,
   "metadata": {},
   "outputs": [
    {
     "name": "stdout",
     "output_type": "stream",
     "text": [
      "idx: 34,obj: 2014-02-18T20:32:00.000000000, similarity: 1.0.\n",
      "idx: 1,obj: 2014-02-14T17:32:00.000000000, similarity: 0.0625.\n",
      "idx: 13,obj: 2014-02-16T05:32:00.000000000, similarity: 0.0390625.\n",
      "idx: 35,obj: 2014-02-18T23:32:00.000000000, similarity: 0.03125.\n",
      "idx: 36,obj: 2014-02-19T02:32:00.000000000, similarity: 0.03125.\n",
      "idx: 30,obj: 2014-02-18T08:32:00.000000000, similarity: 0.015625.\n",
      "idx: 40,obj: 2014-02-19T14:32:00.000000000, similarity: 0.0078125.\n"
     ]
    },
    {
     "data": {
      "image/png": "[encoded data removed]",
      "text/plain": [
       "<Figure size 432x288 with 1 Axes>"
      ]
     },
     "metadata": {
      "needs_background": "light"
     },
     "output_type": "display_data"
    }
   ],
   "source": [
    "def print_similar(windows, result):\n",
    "    for item in result:\n",
    "        print(f\"idx: {item['object']['idx']},obj: {item['object']['series']['timestamp'].values[0]}, similarity: {item['similarity']}.\")\n",
    "    for item in result:\n",
    "        plot_metric(item['object']['series'])\n",
    "print_similar(metric_windows, result)\n"
   ]
  },
  {
   "cell_type": "code",
   "execution_count": 16,
   "metadata": {},
   "outputs": [
    {
     "data": {
      "image/png": "[encoded data removed]",
      "text/plain": [
       "<Figure size 432x288 with 1 Axes>"
      ]
     },
     "metadata": {
      "needs_background": "light"
     },
     "output_type": "display_data"
    }
   ],
   "source": [
    "metric_ec2_cpu_utilization_24ae8d = read_metric('realAWSCloudwatch/ec2_cpu_utilization_24ae8d.csv')\n",
    "metric_ec2_cpu_utilization_24ae8d['timestamp'] = pd.to_datetime(metric_ec2_cpu_utilization_24ae8d['timestamp'], infer_datetime_format=True)\n",
    "metric_ec2_cpu_utilization_24ae8d = metric_ec2_cpu_utilization_24ae8d.sort_values(by='timestamp')\n",
    "plt.plot(metric_ec2_cpu_utilization_24ae8d['timestamp'], metric_ec2_cpu_utilization_24ae8d['y'])\n",
    "plt.xticks(rotation='vertical')\n",
    "metric_windows_metric_ec2_cpu_utilization_24ae8d = split_series(metric_ec2_cpu_utilization_24ae8d)"
   ]
  },
  {
   "cell_type": "code",
   "execution_count": 17,
   "metadata": {},
   "outputs": [],
   "source": [
    "hash_index.fit(metric_windows_metric_ec2_cpu_utilization_24ae8d)"
   ]
  },
  {
   "cell_type": "code",
   "execution_count": 18,
   "metadata": {},
   "outputs": [],
   "source": [
    "result = hash_index.query(suspicious)\n",
    "result.sort(key = lambda v: v[\"similarity\"], reverse = True)\n",
    "result = result[1:14]"
   ]
  },
  {
   "cell_type": "code",
   "execution_count": 19,
   "metadata": {},
   "outputs": [
    {
     "name": "stdout",
     "output_type": "stream",
     "text": [
      "idx: 19,obj: 2014-02-16T23:35:00.000000000, similarity: 0.1484375.\n",
      "idx: 20,obj: 2014-02-17T02:35:00.000000000, similarity: 0.1328125.\n",
      "idx: 4,obj: 2014-02-15T02:35:00.000000000, similarity: 0.09375.\n",
      "idx: 12,obj: 2014-02-16T02:35:00.000000000, similarity: 0.09375.\n",
      "idx: 28,obj: 2014-02-18T02:35:00.000000000, similarity: 0.0859375.\n",
      "idx: 44,obj: 2014-02-20T02:35:00.000000000, similarity: 0.0859375.\n",
      "idx: 52,obj: 2014-02-21T02:35:00.000000000, similarity: 0.0859375.\n",
      "idx: 11,obj: 2014-02-15T23:35:00.000000000, similarity: 0.078125.\n",
      "idx: 36,obj: 2014-02-19T02:35:00.000000000, similarity: 0.0703125.\n",
      "idx: 43,obj: 2014-02-19T23:35:00.000000000, similarity: 0.0703125.\n",
      "idx: 51,obj: 2014-02-20T23:35:00.000000000, similarity: 0.0703125.\n",
      "idx: 1,obj: 2014-02-14T17:32:00.000000000, similarity: 0.0625.\n",
      "idx: 3,obj: 2014-02-14T23:35:00.000000000, similarity: 0.0625.\n"
     ]
    },
    {
     "data": {
      "image/png": "[encoded data removed]",
      "text/plain": [
       "<Figure size 432x288 with 1 Axes>"
      ]
     },
     "metadata": {
      "needs_background": "light"
     },
     "output_type": "display_data"
    }
   ],
   "source": [
    "print_similar(metric_windows_metric_ec2_cpu_utilization_24ae8d, result)"
   ]
  },
  {
   "cell_type": "code",
   "execution_count": 20,
   "metadata": {},
   "outputs": [
    {
     "data": {
      "image/png": "[encoded data removed]",
      "text/plain": [
       "<Figure size 432x288 with 1 Axes>"
      ]
     },
     "metadata": {
      "needs_background": "light"
     },
     "output_type": "display_data"
    }
   ],
   "source": [
    "show_metric(metric_windows, 20)"
   ]
  },
  {
   "cell_type": "code",
   "execution_count": null,
   "metadata": {},
   "outputs": [],
   "source": []
  }
 ],
 "metadata": {
  "kernelspec": {
   "display_name": "Python 3",
   "language": "python",
   "name": "python3"
  },
  "language_info": {
   "codemirror_mode": {
    "name": "ipython",
    "version": 3
   },
   "file_extension": ".py",
   "mimetype": "text/x-python",
   "name": "python",
   "nbconvert_exporter": "python",
   "pygments_lexer": "ipython3",
   "version": "3.6.8"
  }
 },
 "nbformat": 4,
 "nbformat_minor": 2
}
